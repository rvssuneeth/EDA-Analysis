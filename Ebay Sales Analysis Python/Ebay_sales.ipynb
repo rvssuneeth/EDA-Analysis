{
  "nbformat": 4,
  "nbformat_minor": 0,
  "metadata": {
    "colab": {
      "name": "Ebay_sales.ipynb",
      "provenance": [],
      "collapsed_sections": []
    },
    "kernelspec": {
      "name": "python3",
      "display_name": "Python 3"
    }
  },
  "cells": [
    {
      "cell_type": "code",
      "metadata": {
        "id": "_EUjU-rNDz0W"
      },
      "source": [
        "import os\n",
        "import numpy as np \n",
        "import pandas as pd\n",
        "import matplotlib.pyplot as plt\n",
        "import seaborn as sns"
      ],
      "execution_count": null,
      "outputs": []
    },
    {
      "cell_type": "code",
      "metadata": {
        "colab": {
          "base_uri": "https://localhost:8080/"
        },
        "id": "NxT7OxAnEPOE",
        "outputId": "aa225c2b-9f40-4a99-f3ef-fbd6f0f5ffba"
      },
      "source": [
        "from google.colab import drive\n",
        "drive.mount('/content/gdrive')"
      ],
      "execution_count": null,
      "outputs": [
        {
          "output_type": "stream",
          "text": [
            "Mounted at /content/gdrive\n"
          ],
          "name": "stdout"
        }
      ]
    },
    {
      "cell_type": "code",
      "metadata": {
        "id": "qDXQGDsCEVS5"
      },
      "source": [
        "df = pd.read_csv('gdrive/ My Drive/Colab Notebooks/Data Science/Ebay_Sales.csv')"
      ],
      "execution_count": null,
      "outputs": []
    },
    {
      "cell_type": "code",
      "metadata": {
        "colab": {
          "base_uri": "https://localhost:8080/",
          "height": 203
        },
        "id": "3wnNQ4anEVVL",
        "outputId": "9cf66577-e16e-4bcf-ddd2-f946394d87be"
      },
      "source": [
        "df.head()"
      ],
      "execution_count": null,
      "outputs": [
        {
          "output_type": "execute_result",
          "data": {
            "text/html": [
              "<div>\n",
              "<style scoped>\n",
              "    .dataframe tbody tr th:only-of-type {\n",
              "        vertical-align: middle;\n",
              "    }\n",
              "\n",
              "    .dataframe tbody tr th {\n",
              "        vertical-align: top;\n",
              "    }\n",
              "\n",
              "    .dataframe thead th {\n",
              "        text-align: right;\n",
              "    }\n",
              "</style>\n",
              "<table border=\"1\" class=\"dataframe\">\n",
              "  <thead>\n",
              "    <tr style=\"text-align: right;\">\n",
              "      <th></th>\n",
              "      <th>biddable</th>\n",
              "      <th>sold</th>\n",
              "      <th>startprice</th>\n",
              "      <th>saleprice</th>\n",
              "      <th>condition</th>\n",
              "      <th>size</th>\n",
              "      <th>heel</th>\n",
              "      <th>style</th>\n",
              "      <th>color</th>\n",
              "      <th>material</th>\n",
              "      <th>snippit</th>\n",
              "      <th>description</th>\n",
              "    </tr>\n",
              "  </thead>\n",
              "  <tbody>\n",
              "    <tr>\n",
              "      <th>0</th>\n",
              "      <td>1</td>\n",
              "      <td>0</td>\n",
              "      <td>199.00</td>\n",
              "      <td>NaN</td>\n",
              "      <td>Pre-owned</td>\n",
              "      <td>9.5</td>\n",
              "      <td>Low</td>\n",
              "      <td>Open Toe</td>\n",
              "      <td>Black</td>\n",
              "      <td>Suede</td>\n",
              "      <td>Had soles re- covered.</td>\n",
              "      <td>Very good condition. Heel height very manageab...</td>\n",
              "    </tr>\n",
              "    <tr>\n",
              "      <th>1</th>\n",
              "      <td>0</td>\n",
              "      <td>0</td>\n",
              "      <td>375.00</td>\n",
              "      <td>NaN</td>\n",
              "      <td>New with box</td>\n",
              "      <td>7.5</td>\n",
              "      <td>High</td>\n",
              "      <td>Slingback</td>\n",
              "      <td>Other/Missing</td>\n",
              "      <td>Satin</td>\n",
              "      <td>NaN</td>\n",
              "      <td>From my own personal collection, great conditi...</td>\n",
              "    </tr>\n",
              "    <tr>\n",
              "      <th>2</th>\n",
              "      <td>1</td>\n",
              "      <td>1</td>\n",
              "      <td>299.99</td>\n",
              "      <td>780.0</td>\n",
              "      <td>Pre-owned</td>\n",
              "      <td>8.5</td>\n",
              "      <td>High</td>\n",
              "      <td>Pump</td>\n",
              "      <td>Black</td>\n",
              "      <td>Other/Missing</td>\n",
              "      <td>NaN</td>\n",
              "      <td>With its staggering half-foot-high heel and ch...</td>\n",
              "    </tr>\n",
              "    <tr>\n",
              "      <th>3</th>\n",
              "      <td>1</td>\n",
              "      <td>1</td>\n",
              "      <td>49.99</td>\n",
              "      <td>561.0</td>\n",
              "      <td>Pre-owned</td>\n",
              "      <td>8.5</td>\n",
              "      <td>High</td>\n",
              "      <td>Pump</td>\n",
              "      <td>Black</td>\n",
              "      <td>Snakeskin</td>\n",
              "      <td>NaN</td>\n",
              "      <td>Comes w/ box, dustbag, and extra heel in its o...</td>\n",
              "    </tr>\n",
              "    <tr>\n",
              "      <th>4</th>\n",
              "      <td>0</td>\n",
              "      <td>0</td>\n",
              "      <td>89.00</td>\n",
              "      <td>NaN</td>\n",
              "      <td>Pre-owned</td>\n",
              "      <td>5.5</td>\n",
              "      <td>Flat</td>\n",
              "      <td>Other/Missing</td>\n",
              "      <td>Other/Missing</td>\n",
              "      <td>Leather</td>\n",
              "      <td>NaN</td>\n",
              "      <td>Please ask questions before bidding. \\n \\nThis...</td>\n",
              "    </tr>\n",
              "  </tbody>\n",
              "</table>\n",
              "</div>"
            ],
            "text/plain": [
              "   biddable  ...                                        description\n",
              "0         1  ...  Very good condition. Heel height very manageab...\n",
              "1         0  ...  From my own personal collection, great conditi...\n",
              "2         1  ...  With its staggering half-foot-high heel and ch...\n",
              "3         1  ...  Comes w/ box, dustbag, and extra heel in its o...\n",
              "4         0  ...  Please ask questions before bidding. \\n \\nThis...\n",
              "\n",
              "[5 rows x 12 columns]"
            ]
          },
          "metadata": {
            "tags": []
          },
          "execution_count": 4
        }
      ]
    },
    {
      "cell_type": "code",
      "metadata": {
        "colab": {
          "base_uri": "https://localhost:8080/"
        },
        "id": "y6DDV0zWEVXx",
        "outputId": "347c4890-30d9-48f7-c682-5b94011f5e25"
      },
      "source": [
        "df.shape"
      ],
      "execution_count": null,
      "outputs": [
        {
          "output_type": "execute_result",
          "data": {
            "text/plain": [
              "(3796, 12)"
            ]
          },
          "metadata": {
            "tags": []
          },
          "execution_count": 5
        }
      ]
    },
    {
      "cell_type": "code",
      "metadata": {
        "colab": {
          "base_uri": "https://localhost:8080/",
          "height": 295
        },
        "id": "gVMXk1BdEVam",
        "outputId": "db0c97cc-da4b-42ef-d4df-59b15272c0ad"
      },
      "source": [
        "df.describe()"
      ],
      "execution_count": null,
      "outputs": [
        {
          "output_type": "execute_result",
          "data": {
            "text/html": [
              "<div>\n",
              "<style scoped>\n",
              "    .dataframe tbody tr th:only-of-type {\n",
              "        vertical-align: middle;\n",
              "    }\n",
              "\n",
              "    .dataframe tbody tr th {\n",
              "        vertical-align: top;\n",
              "    }\n",
              "\n",
              "    .dataframe thead th {\n",
              "        text-align: right;\n",
              "    }\n",
              "</style>\n",
              "<table border=\"1\" class=\"dataframe\">\n",
              "  <thead>\n",
              "    <tr style=\"text-align: right;\">\n",
              "      <th></th>\n",
              "      <th>biddable</th>\n",
              "      <th>sold</th>\n",
              "      <th>startprice</th>\n",
              "      <th>saleprice</th>\n",
              "      <th>size</th>\n",
              "    </tr>\n",
              "  </thead>\n",
              "  <tbody>\n",
              "    <tr>\n",
              "      <th>count</th>\n",
              "      <td>3796.000000</td>\n",
              "      <td>3796.000000</td>\n",
              "      <td>3796.000000</td>\n",
              "      <td>799.000000</td>\n",
              "      <td>3728.000000</td>\n",
              "    </tr>\n",
              "    <tr>\n",
              "      <th>mean</th>\n",
              "      <td>0.591149</td>\n",
              "      <td>0.210485</td>\n",
              "      <td>472.273538</td>\n",
              "      <td>372.735883</td>\n",
              "      <td>7.932940</td>\n",
              "    </tr>\n",
              "    <tr>\n",
              "      <th>std</th>\n",
              "      <td>0.491687</td>\n",
              "      <td>0.407707</td>\n",
              "      <td>314.227908</td>\n",
              "      <td>264.793373</td>\n",
              "      <td>1.538587</td>\n",
              "    </tr>\n",
              "    <tr>\n",
              "      <th>min</th>\n",
              "      <td>0.000000</td>\n",
              "      <td>0.000000</td>\n",
              "      <td>0.000000</td>\n",
              "      <td>0.000000</td>\n",
              "      <td>4.000000</td>\n",
              "    </tr>\n",
              "    <tr>\n",
              "      <th>25%</th>\n",
              "      <td>0.000000</td>\n",
              "      <td>0.000000</td>\n",
              "      <td>279.990000</td>\n",
              "      <td>199.990000</td>\n",
              "      <td>7.000000</td>\n",
              "    </tr>\n",
              "    <tr>\n",
              "      <th>50%</th>\n",
              "      <td>1.000000</td>\n",
              "      <td>0.000000</td>\n",
              "      <td>449.000000</td>\n",
              "      <td>325.000000</td>\n",
              "      <td>8.000000</td>\n",
              "    </tr>\n",
              "    <tr>\n",
              "      <th>75%</th>\n",
              "      <td>1.000000</td>\n",
              "      <td>0.000000</td>\n",
              "      <td>600.000000</td>\n",
              "      <td>499.990000</td>\n",
              "      <td>9.000000</td>\n",
              "    </tr>\n",
              "    <tr>\n",
              "      <th>max</th>\n",
              "      <td>1.000000</td>\n",
              "      <td>1.000000</td>\n",
              "      <td>4500.000000</td>\n",
              "      <td>3995.000000</td>\n",
              "      <td>12.000000</td>\n",
              "    </tr>\n",
              "  </tbody>\n",
              "</table>\n",
              "</div>"
            ],
            "text/plain": [
              "          biddable         sold   startprice    saleprice         size\n",
              "count  3796.000000  3796.000000  3796.000000   799.000000  3728.000000\n",
              "mean      0.591149     0.210485   472.273538   372.735883     7.932940\n",
              "std       0.491687     0.407707   314.227908   264.793373     1.538587\n",
              "min       0.000000     0.000000     0.000000     0.000000     4.000000\n",
              "25%       0.000000     0.000000   279.990000   199.990000     7.000000\n",
              "50%       1.000000     0.000000   449.000000   325.000000     8.000000\n",
              "75%       1.000000     0.000000   600.000000   499.990000     9.000000\n",
              "max       1.000000     1.000000  4500.000000  3995.000000    12.000000"
            ]
          },
          "metadata": {
            "tags": []
          },
          "execution_count": 6
        }
      ]
    },
    {
      "cell_type": "code",
      "metadata": {
        "colab": {
          "base_uri": "https://localhost:8080/"
        },
        "id": "y0gQWNXBEVdR",
        "outputId": "4ba40bfc-64a5-4298-85fb-f6ed3f26012a"
      },
      "source": [
        "df.dtypes"
      ],
      "execution_count": null,
      "outputs": [
        {
          "output_type": "execute_result",
          "data": {
            "text/plain": [
              "biddable         int64\n",
              "sold             int64\n",
              "startprice     float64\n",
              "saleprice      float64\n",
              "condition       object\n",
              "size           float64\n",
              "heel            object\n",
              "style           object\n",
              "color           object\n",
              "material        object\n",
              "snippit         object\n",
              "description     object\n",
              "dtype: object"
            ]
          },
          "metadata": {
            "tags": []
          },
          "execution_count": 7
        }
      ]
    },
    {
      "cell_type": "code",
      "metadata": {
        "colab": {
          "base_uri": "https://localhost:8080/"
        },
        "id": "K7Po29HLEVf8",
        "outputId": "42b8d3dc-d1f6-41e9-e426-140d21434e93"
      },
      "source": [
        "df.isnull().sum()"
      ],
      "execution_count": null,
      "outputs": [
        {
          "output_type": "execute_result",
          "data": {
            "text/plain": [
              "biddable          0\n",
              "sold              0\n",
              "startprice        0\n",
              "saleprice      2997\n",
              "condition         0\n",
              "size             68\n",
              "heel            961\n",
              "style             0\n",
              "color             0\n",
              "material          0\n",
              "snippit        3035\n",
              "description      85\n",
              "dtype: int64"
            ]
          },
          "metadata": {
            "tags": []
          },
          "execution_count": 8
        }
      ]
    },
    {
      "cell_type": "markdown",
      "metadata": {
        "id": "8QgFe0DpGCgQ"
      },
      "source": [
        "dropping saleprice anf snippit as it has NAN more than 60% of data. Also dropping description"
      ]
    },
    {
      "cell_type": "code",
      "metadata": {
        "colab": {
          "base_uri": "https://localhost:8080/",
          "height": 203
        },
        "id": "4BsOqdCPEViN",
        "outputId": "ef4dac21-dae0-482f-b936-12a5b4cc62cd"
      },
      "source": [
        "df.drop(['saleprice','snippit','description'],axis=1, inplace=True)\n",
        "df.head()"
      ],
      "execution_count": null,
      "outputs": [
        {
          "output_type": "execute_result",
          "data": {
            "text/html": [
              "<div>\n",
              "<style scoped>\n",
              "    .dataframe tbody tr th:only-of-type {\n",
              "        vertical-align: middle;\n",
              "    }\n",
              "\n",
              "    .dataframe tbody tr th {\n",
              "        vertical-align: top;\n",
              "    }\n",
              "\n",
              "    .dataframe thead th {\n",
              "        text-align: right;\n",
              "    }\n",
              "</style>\n",
              "<table border=\"1\" class=\"dataframe\">\n",
              "  <thead>\n",
              "    <tr style=\"text-align: right;\">\n",
              "      <th></th>\n",
              "      <th>biddable</th>\n",
              "      <th>sold</th>\n",
              "      <th>startprice</th>\n",
              "      <th>condition</th>\n",
              "      <th>size</th>\n",
              "      <th>heel</th>\n",
              "      <th>style</th>\n",
              "      <th>color</th>\n",
              "      <th>material</th>\n",
              "    </tr>\n",
              "  </thead>\n",
              "  <tbody>\n",
              "    <tr>\n",
              "      <th>0</th>\n",
              "      <td>1</td>\n",
              "      <td>0</td>\n",
              "      <td>199.00</td>\n",
              "      <td>Pre-owned</td>\n",
              "      <td>9.5</td>\n",
              "      <td>Low</td>\n",
              "      <td>Open Toe</td>\n",
              "      <td>Black</td>\n",
              "      <td>Suede</td>\n",
              "    </tr>\n",
              "    <tr>\n",
              "      <th>1</th>\n",
              "      <td>0</td>\n",
              "      <td>0</td>\n",
              "      <td>375.00</td>\n",
              "      <td>New with box</td>\n",
              "      <td>7.5</td>\n",
              "      <td>High</td>\n",
              "      <td>Slingback</td>\n",
              "      <td>Other/Missing</td>\n",
              "      <td>Satin</td>\n",
              "    </tr>\n",
              "    <tr>\n",
              "      <th>2</th>\n",
              "      <td>1</td>\n",
              "      <td>1</td>\n",
              "      <td>299.99</td>\n",
              "      <td>Pre-owned</td>\n",
              "      <td>8.5</td>\n",
              "      <td>High</td>\n",
              "      <td>Pump</td>\n",
              "      <td>Black</td>\n",
              "      <td>Other/Missing</td>\n",
              "    </tr>\n",
              "    <tr>\n",
              "      <th>3</th>\n",
              "      <td>1</td>\n",
              "      <td>1</td>\n",
              "      <td>49.99</td>\n",
              "      <td>Pre-owned</td>\n",
              "      <td>8.5</td>\n",
              "      <td>High</td>\n",
              "      <td>Pump</td>\n",
              "      <td>Black</td>\n",
              "      <td>Snakeskin</td>\n",
              "    </tr>\n",
              "    <tr>\n",
              "      <th>4</th>\n",
              "      <td>0</td>\n",
              "      <td>0</td>\n",
              "      <td>89.00</td>\n",
              "      <td>Pre-owned</td>\n",
              "      <td>5.5</td>\n",
              "      <td>Flat</td>\n",
              "      <td>Other/Missing</td>\n",
              "      <td>Other/Missing</td>\n",
              "      <td>Leather</td>\n",
              "    </tr>\n",
              "  </tbody>\n",
              "</table>\n",
              "</div>"
            ],
            "text/plain": [
              "   biddable  sold  startprice  ...          style          color       material\n",
              "0         1     0      199.00  ...       Open Toe          Black          Suede\n",
              "1         0     0      375.00  ...      Slingback  Other/Missing          Satin\n",
              "2         1     1      299.99  ...           Pump          Black  Other/Missing\n",
              "3         1     1       49.99  ...           Pump          Black      Snakeskin\n",
              "4         0     0       89.00  ...  Other/Missing  Other/Missing        Leather\n",
              "\n",
              "[5 rows x 9 columns]"
            ]
          },
          "metadata": {
            "tags": []
          },
          "execution_count": 9
        }
      ]
    },
    {
      "cell_type": "code",
      "metadata": {
        "colab": {
          "base_uri": "https://localhost:8080/",
          "height": 283
        },
        "id": "OKBQuzBqR5tO",
        "outputId": "f2402d5b-d45a-4978-a83b-8c49cb5e9ab9"
      },
      "source": [
        "df.boxplot(column='startprice')"
      ],
      "execution_count": null,
      "outputs": [
        {
          "output_type": "execute_result",
          "data": {
            "text/plain": [
              "<matplotlib.axes._subplots.AxesSubplot at 0x7f17d49e97d0>"
            ]
          },
          "metadata": {
            "tags": []
          },
          "execution_count": 10
        },
        {
          "output_type": "display_data",
          "data": {
            "image/png": "[encoded data removed]",
            "text/plain": [
              "<Figure size 432x288 with 1 Axes>"
            ]
          },
          "metadata": {
            "tags": [],
            "needs_background": "light"
          }
        }
      ]
    },
    {
      "cell_type": "code",
      "metadata": {
        "colab": {
          "base_uri": "https://localhost:8080/",
          "height": 297
        },
        "id": "WM-gz4EAUE6p",
        "outputId": "4a673da2-f40a-4ccb-86a8-99934c350135"
      },
      "source": [
        "df.plot.scatter(x = 'startprice', y = 'condition')"
      ],
      "execution_count": null,
      "outputs": [
        {
          "output_type": "execute_result",
          "data": {
            "text/plain": [
              "<matplotlib.axes._subplots.AxesSubplot at 0x7f17ca791550>"
            ]
          },
          "metadata": {
            "tags": []
          },
          "execution_count": 22
        },
        {
          "output_type": "display_data",
          "data": {
            "image/png": "[encoded data removed]",
            "text/plain": [
              "<Figure size 432x288 with 1 Axes>"
            ]
          },
          "metadata": {
            "tags": [],
            "needs_background": "light"
          }
        }
      ]
    },
    {
      "cell_type": "markdown",
      "metadata": {
        "id": "0emWI9Izt4h9"
      },
      "source": [
        "We can see that new with box are high in price, as we know new products will have high price so there is no reason to remove outliers "
      ]
    },
    {
      "cell_type": "code",
      "metadata": {
        "colab": {
          "base_uri": "https://localhost:8080/",
          "height": 318
        },
        "id": "NrJPUPYnEVkr",
        "outputId": "b2597b6e-9c92-4a55-9e73-432c693dde70"
      },
      "source": [
        "plt.hist(df['size'])"
      ],
      "execution_count": null,
      "outputs": [
        {
          "output_type": "execute_result",
          "data": {
            "text/plain": [
              "(array([ 42., 241., 264., 758., 413., 827., 695., 235., 218.,  35.]),\n",
              " array([ 4. ,  4.8,  5.6,  6.4,  7.2,  8. ,  8.8,  9.6, 10.4, 11.2, 12. ]),\n",
              " <a list of 10 Patch objects>)"
            ]
          },
          "metadata": {
            "tags": []
          },
          "execution_count": 12
        },
        {
          "output_type": "display_data",
          "data": {
            "image/png": "[encoded data removed]",
            "text/plain": [
              "<Figure size 432x288 with 1 Axes>"
            ]
          },
          "metadata": {
            "tags": [],
            "needs_background": "light"
          }
        }
      ]
    },
    {
      "cell_type": "markdown",
      "metadata": {
        "id": "jPC5tKeeILWY"
      },
      "source": [
        "almost normal imputing mean"
      ]
    },
    {
      "cell_type": "code",
      "metadata": {
        "id": "gZ3GSnt2EVnI"
      },
      "source": [
        "df['size'].fillna((df['size'].mean()), inplace=True)"
      ],
      "execution_count": null,
      "outputs": []
    },
    {
      "cell_type": "code",
      "metadata": {
        "colab": {
          "base_uri": "https://localhost:8080/",
          "height": 401
        },
        "id": "QzBMQOImEVpx",
        "outputId": "a70f5ca1-7eae-4220-b000-a77ab22703cc"
      },
      "source": [
        "sns.catplot(x = 'heel', kind = 'count', data = df)"
      ],
      "execution_count": null,
      "outputs": [
        {
          "output_type": "execute_result",
          "data": {
            "text/plain": [
              "<seaborn.axisgrid.FacetGrid at 0x7f17d4423510>"
            ]
          },
          "metadata": {
            "tags": []
          },
          "execution_count": 14
        },
        {
          "output_type": "display_data",
          "data": {
            "image/png": "[encoded data removed]",
            "text/plain": [
              "<Figure size 360x360 with 1 Axes>"
            ]
          },
          "metadata": {
            "tags": [],
            "needs_background": "light"
          }
        }
      ]
    },
    {
      "cell_type": "code",
      "metadata": {
        "colab": {
          "base_uri": "https://localhost:8080/"
        },
        "id": "tUPomW4kJgMK",
        "outputId": "e6de3f46-2050-4606-f153-739b8edee5ca"
      },
      "source": [
        "df['heel'].value_counts()"
      ],
      "execution_count": null,
      "outputs": [
        {
          "output_type": "execute_result",
          "data": {
            "text/plain": [
              "High      2610\n",
              "Medium     163\n",
              "Low         38\n",
              "Flat        24\n",
              "Name: heel, dtype: int64"
            ]
          },
          "metadata": {
            "tags": []
          },
          "execution_count": 15
        }
      ]
    },
    {
      "cell_type": "markdown",
      "metadata": {
        "id": "pIvuuPJ6sMV9"
      },
      "source": [
        "Random imputation of missing values"
      ]
    },
    {
      "cell_type": "code",
      "metadata": {
        "id": "qa6YDqrCLyEq"
      },
      "source": [
        "p = df.heel.value_counts(normalize=True)\n",
        "m = df.heel.isnull()\n",
        "\n",
        "np.random.seed(42)\n",
        "rand_fill = np.random.choice(p.index, size=m.sum(), p=p)\n",
        "df.loc[m, 'heel'] = rand_fill"
      ],
      "execution_count": null,
      "outputs": []
    },
    {
      "cell_type": "code",
      "metadata": {
        "colab": {
          "base_uri": "https://localhost:8080/"
        },
        "id": "GGr1SDePKDeW",
        "outputId": "888e76b9-af68-4583-e197-9f6691c2ce9f"
      },
      "source": [
        "df.isnull().sum()"
      ],
      "execution_count": null,
      "outputs": [
        {
          "output_type": "execute_result",
          "data": {
            "text/plain": [
              "biddable      0\n",
              "sold          0\n",
              "startprice    0\n",
              "condition     0\n",
              "size          0\n",
              "heel          0\n",
              "style         0\n",
              "color         0\n",
              "material      0\n",
              "dtype: int64"
            ]
          },
          "metadata": {
            "tags": []
          },
          "execution_count": 17
        }
      ]
    },
    {
      "cell_type": "code",
      "metadata": {
        "colab": {
          "base_uri": "https://localhost:8080/",
          "height": 401
        },
        "id": "sYBbY-zfJgSn",
        "outputId": "a7e66375-5fd6-479b-bc48-3982e4d445e9"
      },
      "source": [
        "df['style'].value_counts()\n",
        "sns.catplot(x = 'style', kind = 'count', data = df)"
      ],
      "execution_count": null,
      "outputs": [
        {
          "output_type": "execute_result",
          "data": {
            "text/plain": [
              "<seaborn.axisgrid.FacetGrid at 0x7f17d435bdd0>"
            ]
          },
          "metadata": {
            "tags": []
          },
          "execution_count": 18
        },
        {
          "output_type": "display_data",
          "data": {
            "image/png": "[encoded data removed]",
            "text/plain": [
              "<Figure size 360x360 with 1 Axes>"
            ]
          },
          "metadata": {
            "tags": [],
            "needs_background": "light"
          }
        }
      ]
    },
    {
      "cell_type": "code",
      "metadata": {
        "colab": {
          "base_uri": "https://localhost:8080/",
          "height": 489
        },
        "id": "4mWK7J9aJiGH",
        "outputId": "2a473cf4-accd-4f97-a3fe-38f11952ff4a"
      },
      "source": [
        "sns.catplot(x = 'color', kind = 'count', data = df)\n",
        "df['color'].value_counts()"
      ],
      "execution_count": null,
      "outputs": [
        {
          "output_type": "execute_result",
          "data": {
            "text/plain": [
              "Other/Missing    1689\n",
              "Black            1330\n",
              "Beige             411\n",
              "Red               192\n",
              "Brown             174\n",
              "Name: color, dtype: int64"
            ]
          },
          "metadata": {
            "tags": []
          },
          "execution_count": 19
        },
        {
          "output_type": "display_data",
          "data": {
            "image/png": "[encoded data removed]",
            "text/plain": [
              "<Figure size 360x360 with 1 Axes>"
            ]
          },
          "metadata": {
            "tags": [],
            "needs_background": "light"
          }
        }
      ]
    },
    {
      "cell_type": "code",
      "metadata": {
        "colab": {
          "base_uri": "https://localhost:8080/",
          "height": 506
        },
        "id": "B-Wir_LZJiJc",
        "outputId": "17261efe-0ea2-48b5-d59a-64fb9117ee6a"
      },
      "source": [
        "sns.catplot(x = 'material', kind = 'count', data = df)\n",
        "df['material'].value_counts()"
      ],
      "execution_count": null,
      "outputs": [
        {
          "output_type": "execute_result",
          "data": {
            "text/plain": [
              "Other/Missing     1172\n",
              "Leather            975\n",
              "Patent Leather     928\n",
              "Suede              450\n",
              "Satin              158\n",
              "Snakeskin          113\n",
              "Name: material, dtype: int64"
            ]
          },
          "metadata": {
            "tags": []
          },
          "execution_count": 20
        },
        {
          "output_type": "display_data",
          "data": {
            "image/png": "[encoded data removed]",
            "text/plain": [
              "<Figure size 360x360 with 1 Axes>"
            ]
          },
          "metadata": {
            "tags": [],
            "needs_background": "light"
          }
        }
      ]
    },
    {
      "cell_type": "code",
      "metadata": {
        "colab": {
          "base_uri": "https://localhost:8080/",
          "height": 471
        },
        "id": "67YBvMmVEVuV",
        "outputId": "9a795168-253f-4f9c-8c08-67ac4f0b6031"
      },
      "source": [
        "sns.catplot(x = 'condition', kind = 'count', data = df)\n",
        "df['condition'].value_counts()"
      ],
      "execution_count": null,
      "outputs": [
        {
          "output_type": "execute_result",
          "data": {
            "text/plain": [
              "Pre-owned           2367\n",
              "New with box        1092\n",
              "New without box      257\n",
              "New with defects      80\n",
              "Name: condition, dtype: int64"
            ]
          },
          "metadata": {
            "tags": []
          },
          "execution_count": 21
        },
        {
          "output_type": "display_data",
          "data": {
            "image/png": "[encoded data removed]",
            "text/plain": [
              "<Figure size 360x360 with 1 Axes>"
            ]
          },
          "metadata": {
            "tags": [],
            "needs_background": "light"
          }
        }
      ]
    },
    {
      "cell_type": "code",
      "metadata": {
        "colab": {
          "base_uri": "https://localhost:8080/",
          "height": 436
        },
        "id": "_01tkz5JEVxA",
        "outputId": "b2a4f9c3-bb94-4738-c4ab-c48b42ec0ce0"
      },
      "source": [
        "sns.catplot(x = 'biddable', kind = 'count', data = df)\n",
        "df['biddable'].value_counts()"
      ],
      "execution_count": null,
      "outputs": [
        {
          "output_type": "execute_result",
          "data": {
            "text/plain": [
              "1    2244\n",
              "0    1552\n",
              "Name: biddable, dtype: int64"
            ]
          },
          "metadata": {
            "tags": []
          },
          "execution_count": 25
        },
        {
          "output_type": "display_data",
          "data": {
            "image/png": "[encoded data removed]",
            "text/plain": [
              "<Figure size 360x360 with 1 Axes>"
            ]
          },
          "metadata": {
            "tags": [],
            "needs_background": "light"
          }
        }
      ]
    },
    {
      "cell_type": "code",
      "metadata": {
        "colab": {
          "base_uri": "https://localhost:8080/",
          "height": 436
        },
        "id": "ELTsg0RWEVzO",
        "outputId": "8f20ceb6-bbe3-40ea-94de-ee24ade2b9ce"
      },
      "source": [
        "sns.catplot(x = 'sold', kind = 'count', data = df)\n",
        "df['sold'].value_counts()"
      ],
      "execution_count": null,
      "outputs": [
        {
          "output_type": "execute_result",
          "data": {
            "text/plain": [
              "0    2997\n",
              "1     799\n",
              "Name: sold, dtype: int64"
            ]
          },
          "metadata": {
            "tags": []
          },
          "execution_count": 24
        },
        {
          "output_type": "display_data",
          "data": {
            "image/png": "[encoded data removed]",
            "text/plain": [
              "<Figure size 360x360 with 1 Axes>"
            ]
          },
          "metadata": {
            "tags": [],
            "needs_background": "light"
          }
        }
      ]
    },
    {
      "cell_type": "markdown",
      "metadata": {
        "id": "nc0H676Uu6oA"
      },
      "source": [
        "From the last 2 graphs we can say that, even though more than 2000 products are biddle, the products sold are only around 750"
      ]
    },
    {
      "cell_type": "code",
      "metadata": {
        "id": "z-pT3XeA2wv2"
      },
      "source": [
        "df = pd.get_dummies(df, columns=['condition','heel','style','color','material'])\n",
        "df.head()"
      ],
      "execution_count": null,
      "outputs": []
    },
    {
      "cell_type": "code",
      "metadata": {
        "colab": {
          "base_uri": "https://localhost:8080/",
          "height": 1000
        },
        "id": "4vmNfFKj2w-E",
        "outputId": "a7e69254-bae3-48f2-fedd-78b8b261775d"
      },
      "source": [
        "df.corr()"
      ],
      "execution_count": null,
      "outputs": [
        {
          "output_type": "execute_result",
          "data": {
            "text/html": [
              "<div>\n",
              "<style scoped>\n",
              "    .dataframe tbody tr th:only-of-type {\n",
              "        vertical-align: middle;\n",
              "    }\n",
              "\n",
              "    .dataframe tbody tr th {\n",
              "        vertical-align: top;\n",
              "    }\n",
              "\n",
              "    .dataframe thead th {\n",
              "        text-align: right;\n",
              "    }\n",
              "</style>\n",
              "<table border=\"1\" class=\"dataframe\">\n",
              "  <thead>\n",
              "    <tr style=\"text-align: right;\">\n",
              "      <th></th>\n",
              "      <th>biddable</th>\n",
              "      <th>sold</th>\n",
              "      <th>startprice</th>\n",
              "      <th>size</th>\n",
              "      <th>condition_New with box</th>\n",
              "      <th>condition_New with defects</th>\n",
              "      <th>condition_New without box</th>\n",
              "      <th>condition_Pre-owned</th>\n",
              "      <th>heel_Flat</th>\n",
              "      <th>heel_High</th>\n",
              "      <th>heel_Low</th>\n",
              "      <th>heel_Medium</th>\n",
              "      <th>style_Open Toe</th>\n",
              "      <th>style_Other/Missing</th>\n",
              "      <th>style_Platform</th>\n",
              "      <th>style_Pump</th>\n",
              "      <th>style_Slingback</th>\n",
              "      <th>style_Stiletto</th>\n",
              "      <th>color_Beige</th>\n",
              "      <th>color_Black</th>\n",
              "      <th>color_Brown</th>\n",
              "      <th>color_Other/Missing</th>\n",
              "      <th>color_Red</th>\n",
              "      <th>material_Leather</th>\n",
              "      <th>material_Other/Missing</th>\n",
              "      <th>material_Patent Leather</th>\n",
              "      <th>material_Satin</th>\n",
              "      <th>material_Snakeskin</th>\n",
              "      <th>material_Suede</th>\n",
              "    </tr>\n",
              "  </thead>\n",
              "  <tbody>\n",
              "    <tr>\n",
              "      <th>biddable</th>\n",
              "      <td>1.000000</td>\n",
              "      <td>0.099469</td>\n",
              "      <td>-0.191328</td>\n",
              "      <td>0.001031</td>\n",
              "      <td>-0.114271</td>\n",
              "      <td>-0.001089</td>\n",
              "      <td>-0.046763</td>\n",
              "      <td>0.131339</td>\n",
              "      <td>-0.003458</td>\n",
              "      <td>-0.020739</td>\n",
              "      <td>0.005810</td>\n",
              "      <td>0.022299</td>\n",
              "      <td>0.030999</td>\n",
              "      <td>0.007540</td>\n",
              "      <td>-0.016930</td>\n",
              "      <td>-0.028187</td>\n",
              "      <td>-0.005938</td>\n",
              "      <td>0.041922</td>\n",
              "      <td>-0.027527</td>\n",
              "      <td>-0.032828</td>\n",
              "      <td>-0.012452</td>\n",
              "      <td>0.052349</td>\n",
              "      <td>0.003667</td>\n",
              "      <td>-0.018851</td>\n",
              "      <td>0.065156</td>\n",
              "      <td>-0.034395</td>\n",
              "      <td>-0.001077</td>\n",
              "      <td>-0.015134</td>\n",
              "      <td>-0.013289</td>\n",
              "    </tr>\n",
              "    <tr>\n",
              "      <th>sold</th>\n",
              "      <td>0.099469</td>\n",
              "      <td>1.000000</td>\n",
              "      <td>-0.257331</td>\n",
              "      <td>0.019288</td>\n",
              "      <td>-0.071163</td>\n",
              "      <td>0.014223</td>\n",
              "      <td>0.002329</td>\n",
              "      <td>0.061065</td>\n",
              "      <td>0.000804</td>\n",
              "      <td>0.001353</td>\n",
              "      <td>-0.033053</td>\n",
              "      <td>0.014520</td>\n",
              "      <td>-0.020615</td>\n",
              "      <td>0.055517</td>\n",
              "      <td>-0.041764</td>\n",
              "      <td>0.011914</td>\n",
              "      <td>-0.042851</td>\n",
              "      <td>0.040167</td>\n",
              "      <td>0.017659</td>\n",
              "      <td>0.050192</td>\n",
              "      <td>-0.023559</td>\n",
              "      <td>-0.051375</td>\n",
              "      <td>0.004680</td>\n",
              "      <td>0.014462</td>\n",
              "      <td>-0.013552</td>\n",
              "      <td>0.017548</td>\n",
              "      <td>-0.029950</td>\n",
              "      <td>-0.021997</td>\n",
              "      <td>0.006561</td>\n",
              "    </tr>\n",
              "    <tr>\n",
              "      <th>startprice</th>\n",
              "      <td>-0.191328</td>\n",
              "      <td>-0.257331</td>\n",
              "      <td>1.000000</td>\n",
              "      <td>0.031175</td>\n",
              "      <td>0.410073</td>\n",
              "      <td>-0.007161</td>\n",
              "      <td>-0.000744</td>\n",
              "      <td>-0.380634</td>\n",
              "      <td>-0.027591</td>\n",
              "      <td>0.124067</td>\n",
              "      <td>-0.048491</td>\n",
              "      <td>-0.108995</td>\n",
              "      <td>-0.023292</td>\n",
              "      <td>-0.089953</td>\n",
              "      <td>-0.077560</td>\n",
              "      <td>0.143122</td>\n",
              "      <td>-0.068931</td>\n",
              "      <td>0.060456</td>\n",
              "      <td>0.026097</td>\n",
              "      <td>0.023828</td>\n",
              "      <td>-0.074825</td>\n",
              "      <td>-0.006651</td>\n",
              "      <td>-0.002388</td>\n",
              "      <td>0.031002</td>\n",
              "      <td>-0.039982</td>\n",
              "      <td>0.030409</td>\n",
              "      <td>-0.067373</td>\n",
              "      <td>0.076948</td>\n",
              "      <td>-0.024018</td>\n",
              "    </tr>\n",
              "    <tr>\n",
              "      <th>size</th>\n",
              "      <td>0.001031</td>\n",
              "      <td>0.019288</td>\n",
              "      <td>0.031175</td>\n",
              "      <td>1.000000</td>\n",
              "      <td>0.028384</td>\n",
              "      <td>0.011266</td>\n",
              "      <td>-0.035859</td>\n",
              "      <td>-0.011265</td>\n",
              "      <td>-0.009334</td>\n",
              "      <td>0.039133</td>\n",
              "      <td>-0.029307</td>\n",
              "      <td>-0.027208</td>\n",
              "      <td>0.019247</td>\n",
              "      <td>-0.026183</td>\n",
              "      <td>-0.006719</td>\n",
              "      <td>0.003601</td>\n",
              "      <td>0.010401</td>\n",
              "      <td>0.002388</td>\n",
              "      <td>0.069548</td>\n",
              "      <td>0.008556</td>\n",
              "      <td>-0.024648</td>\n",
              "      <td>-0.040216</td>\n",
              "      <td>-0.002517</td>\n",
              "      <td>0.003313</td>\n",
              "      <td>-0.049766</td>\n",
              "      <td>0.035166</td>\n",
              "      <td>0.020731</td>\n",
              "      <td>0.004078</td>\n",
              "      <td>0.004938</td>\n",
              "    </tr>\n",
              "    <tr>\n",
              "      <th>condition_New with box</th>\n",
              "      <td>-0.114271</td>\n",
              "      <td>-0.071163</td>\n",
              "      <td>0.410073</td>\n",
              "      <td>0.028384</td>\n",
              "      <td>1.000000</td>\n",
              "      <td>-0.093243</td>\n",
              "      <td>-0.171251</td>\n",
              "      <td>-0.817883</td>\n",
              "      <td>-0.000373</td>\n",
              "      <td>0.055649</td>\n",
              "      <td>-0.004801</td>\n",
              "      <td>-0.061661</td>\n",
              "      <td>-0.033230</td>\n",
              "      <td>-0.043209</td>\n",
              "      <td>-0.061209</td>\n",
              "      <td>0.108135</td>\n",
              "      <td>-0.029235</td>\n",
              "      <td>0.007634</td>\n",
              "      <td>-0.000436</td>\n",
              "      <td>-0.027571</td>\n",
              "      <td>-0.022414</td>\n",
              "      <td>0.014197</td>\n",
              "      <td>0.049839</td>\n",
              "      <td>-0.003303</td>\n",
              "      <td>-0.029163</td>\n",
              "      <td>0.043387</td>\n",
              "      <td>-0.033368</td>\n",
              "      <td>0.008537</td>\n",
              "      <td>0.004587</td>\n",
              "    </tr>\n",
              "    <tr>\n",
              "      <th>condition_New with defects</th>\n",
              "      <td>-0.001089</td>\n",
              "      <td>0.014223</td>\n",
              "      <td>-0.007161</td>\n",
              "      <td>0.011266</td>\n",
              "      <td>-0.093243</td>\n",
              "      <td>1.000000</td>\n",
              "      <td>-0.039540</td>\n",
              "      <td>-0.188838</td>\n",
              "      <td>-0.012648</td>\n",
              "      <td>0.022804</td>\n",
              "      <td>-0.017292</td>\n",
              "      <td>-0.013120</td>\n",
              "      <td>-0.020282</td>\n",
              "      <td>-0.006820</td>\n",
              "      <td>-0.010448</td>\n",
              "      <td>0.036007</td>\n",
              "      <td>-0.001330</td>\n",
              "      <td>-0.021770</td>\n",
              "      <td>0.019704</td>\n",
              "      <td>-0.003958</td>\n",
              "      <td>-0.014620</td>\n",
              "      <td>-0.005888</td>\n",
              "      <td>0.007981</td>\n",
              "      <td>-0.002300</td>\n",
              "      <td>-0.022628</td>\n",
              "      <td>0.018959</td>\n",
              "      <td>0.015337</td>\n",
              "      <td>-0.025701</td>\n",
              "      <td>0.014277</td>\n",
              "    </tr>\n",
              "    <tr>\n",
              "      <th>condition_New without box</th>\n",
              "      <td>-0.046763</td>\n",
              "      <td>0.002329</td>\n",
              "      <td>-0.000744</td>\n",
              "      <td>-0.035859</td>\n",
              "      <td>-0.171251</td>\n",
              "      <td>-0.039540</td>\n",
              "      <td>1.000000</td>\n",
              "      <td>-0.346824</td>\n",
              "      <td>0.025787</td>\n",
              "      <td>-0.009895</td>\n",
              "      <td>-0.031759</td>\n",
              "      <td>0.017740</td>\n",
              "      <td>-0.023773</td>\n",
              "      <td>0.025409</td>\n",
              "      <td>0.008184</td>\n",
              "      <td>-0.007123</td>\n",
              "      <td>-0.000565</td>\n",
              "      <td>-0.002219</td>\n",
              "      <td>-0.002787</td>\n",
              "      <td>-0.061638</td>\n",
              "      <td>0.031185</td>\n",
              "      <td>0.049900</td>\n",
              "      <td>-0.004780</td>\n",
              "      <td>0.019176</td>\n",
              "      <td>0.006020</td>\n",
              "      <td>-0.043497</td>\n",
              "      <td>0.006840</td>\n",
              "      <td>0.039176</td>\n",
              "      <td>-0.001513</td>\n",
              "    </tr>\n",
              "    <tr>\n",
              "      <th>condition_Pre-owned</th>\n",
              "      <td>0.131339</td>\n",
              "      <td>0.061065</td>\n",
              "      <td>-0.380634</td>\n",
              "      <td>-0.011265</td>\n",
              "      <td>-0.817883</td>\n",
              "      <td>-0.188838</td>\n",
              "      <td>-0.346824</td>\n",
              "      <td>1.000000</td>\n",
              "      <td>-0.009274</td>\n",
              "      <td>-0.053623</td>\n",
              "      <td>0.026080</td>\n",
              "      <td>0.052302</td>\n",
              "      <td>0.049388</td>\n",
              "      <td>0.029218</td>\n",
              "      <td>0.056043</td>\n",
              "      <td>-0.108015</td>\n",
              "      <td>0.028003</td>\n",
              "      <td>0.000472</td>\n",
              "      <td>-0.003989</td>\n",
              "      <td>0.058896</td>\n",
              "      <td>0.009105</td>\n",
              "      <td>-0.037395</td>\n",
              "      <td>-0.046453</td>\n",
              "      <td>-0.006176</td>\n",
              "      <td>0.030834</td>\n",
              "      <td>-0.023602</td>\n",
              "      <td>0.023083</td>\n",
              "      <td>-0.020672</td>\n",
              "      <td>-0.007734</td>\n",
              "    </tr>\n",
              "    <tr>\n",
              "      <th>heel_Flat</th>\n",
              "      <td>-0.003458</td>\n",
              "      <td>0.000804</td>\n",
              "      <td>-0.027591</td>\n",
              "      <td>-0.009334</td>\n",
              "      <td>-0.000373</td>\n",
              "      <td>-0.012648</td>\n",
              "      <td>0.025787</td>\n",
              "      <td>-0.009274</td>\n",
              "      <td>1.000000</td>\n",
              "      <td>-0.293212</td>\n",
              "      <td>-0.010159</td>\n",
              "      <td>-0.021484</td>\n",
              "      <td>0.000646</td>\n",
              "      <td>0.132825</td>\n",
              "      <td>-0.021526</td>\n",
              "      <td>-0.047498</td>\n",
              "      <td>-0.027125</td>\n",
              "      <td>-0.021842</td>\n",
              "      <td>-0.020129</td>\n",
              "      <td>0.027036</td>\n",
              "      <td>-0.004173</td>\n",
              "      <td>-0.015230</td>\n",
              "      <td>0.008201</td>\n",
              "      <td>-0.001351</td>\n",
              "      <td>-0.010962</td>\n",
              "      <td>0.001110</td>\n",
              "      <td>-0.017965</td>\n",
              "      <td>0.021132</td>\n",
              "      <td>0.016007</td>\n",
              "    </tr>\n",
              "    <tr>\n",
              "      <th>heel_High</th>\n",
              "      <td>-0.020739</td>\n",
              "      <td>0.001353</td>\n",
              "      <td>0.124067</td>\n",
              "      <td>0.039133</td>\n",
              "      <td>0.055649</td>\n",
              "      <td>0.022804</td>\n",
              "      <td>-0.009895</td>\n",
              "      <td>-0.053623</td>\n",
              "      <td>-0.293212</td>\n",
              "      <td>1.000000</td>\n",
              "      <td>-0.400859</td>\n",
              "      <td>-0.847729</td>\n",
              "      <td>0.033886</td>\n",
              "      <td>-0.137915</td>\n",
              "      <td>0.024945</td>\n",
              "      <td>0.032776</td>\n",
              "      <td>0.021110</td>\n",
              "      <td>0.017249</td>\n",
              "      <td>0.017852</td>\n",
              "      <td>-0.033033</td>\n",
              "      <td>-0.028660</td>\n",
              "      <td>0.037949</td>\n",
              "      <td>-0.012105</td>\n",
              "      <td>-0.012103</td>\n",
              "      <td>0.002616</td>\n",
              "      <td>0.031325</td>\n",
              "      <td>-0.021592</td>\n",
              "      <td>0.017127</td>\n",
              "      <td>-0.024692</td>\n",
              "    </tr>\n",
              "    <tr>\n",
              "      <th>heel_Low</th>\n",
              "      <td>0.005810</td>\n",
              "      <td>-0.033053</td>\n",
              "      <td>-0.048491</td>\n",
              "      <td>-0.029307</td>\n",
              "      <td>-0.004801</td>\n",
              "      <td>-0.017292</td>\n",
              "      <td>-0.031759</td>\n",
              "      <td>0.026080</td>\n",
              "      <td>-0.010159</td>\n",
              "      <td>-0.400859</td>\n",
              "      <td>1.000000</td>\n",
              "      <td>-0.029372</td>\n",
              "      <td>-0.010742</td>\n",
              "      <td>0.076936</td>\n",
              "      <td>-0.027679</td>\n",
              "      <td>-0.016154</td>\n",
              "      <td>0.002494</td>\n",
              "      <td>-0.020342</td>\n",
              "      <td>-0.033771</td>\n",
              "      <td>0.036962</td>\n",
              "      <td>0.028354</td>\n",
              "      <td>-0.018867</td>\n",
              "      <td>-0.016859</td>\n",
              "      <td>0.024090</td>\n",
              "      <td>-0.014986</td>\n",
              "      <td>-0.024850</td>\n",
              "      <td>0.009482</td>\n",
              "      <td>-0.020643</td>\n",
              "      <td>0.026892</td>\n",
              "    </tr>\n",
              "    <tr>\n",
              "      <th>heel_Medium</th>\n",
              "      <td>0.022299</td>\n",
              "      <td>0.014520</td>\n",
              "      <td>-0.108995</td>\n",
              "      <td>-0.027208</td>\n",
              "      <td>-0.061661</td>\n",
              "      <td>-0.013120</td>\n",
              "      <td>0.017740</td>\n",
              "      <td>0.052302</td>\n",
              "      <td>-0.021484</td>\n",
              "      <td>-0.847729</td>\n",
              "      <td>-0.029372</td>\n",
              "      <td>1.000000</td>\n",
              "      <td>-0.033993</td>\n",
              "      <td>0.072500</td>\n",
              "      <td>-0.007207</td>\n",
              "      <td>-0.012476</td>\n",
              "      <td>-0.015688</td>\n",
              "      <td>-0.001851</td>\n",
              "      <td>0.003482</td>\n",
              "      <td>0.009926</td>\n",
              "      <td>0.020528</td>\n",
              "      <td>-0.028864</td>\n",
              "      <td>0.019321</td>\n",
              "      <td>0.002517</td>\n",
              "      <td>0.008404</td>\n",
              "      <td>-0.024220</td>\n",
              "      <td>0.026754</td>\n",
              "      <td>-0.017232</td>\n",
              "      <td>0.009317</td>\n",
              "    </tr>\n",
              "    <tr>\n",
              "      <th>style_Open Toe</th>\n",
              "      <td>0.030999</td>\n",
              "      <td>-0.020615</td>\n",
              "      <td>-0.023292</td>\n",
              "      <td>0.019247</td>\n",
              "      <td>-0.033230</td>\n",
              "      <td>-0.020282</td>\n",
              "      <td>-0.023773</td>\n",
              "      <td>0.049388</td>\n",
              "      <td>0.000646</td>\n",
              "      <td>0.033886</td>\n",
              "      <td>-0.010742</td>\n",
              "      <td>-0.033993</td>\n",
              "      <td>1.000000</td>\n",
              "      <td>-0.131140</td>\n",
              "      <td>-0.151503</td>\n",
              "      <td>-0.311350</td>\n",
              "      <td>-0.107692</td>\n",
              "      <td>-0.086715</td>\n",
              "      <td>-0.000255</td>\n",
              "      <td>-0.054877</td>\n",
              "      <td>-0.001001</td>\n",
              "      <td>0.058680</td>\n",
              "      <td>-0.012285</td>\n",
              "      <td>-0.029968</td>\n",
              "      <td>0.039310</td>\n",
              "      <td>-0.050617</td>\n",
              "      <td>0.023396</td>\n",
              "      <td>0.036189</td>\n",
              "      <td>0.018139</td>\n",
              "    </tr>\n",
              "    <tr>\n",
              "      <th>style_Other/Missing</th>\n",
              "      <td>0.007540</td>\n",
              "      <td>0.055517</td>\n",
              "      <td>-0.089953</td>\n",
              "      <td>-0.026183</td>\n",
              "      <td>-0.043209</td>\n",
              "      <td>-0.006820</td>\n",
              "      <td>0.025409</td>\n",
              "      <td>0.029218</td>\n",
              "      <td>0.132825</td>\n",
              "      <td>-0.137915</td>\n",
              "      <td>0.076936</td>\n",
              "      <td>0.072500</td>\n",
              "      <td>-0.131140</td>\n",
              "      <td>1.000000</td>\n",
              "      <td>-0.169627</td>\n",
              "      <td>-0.348597</td>\n",
              "      <td>-0.120575</td>\n",
              "      <td>-0.097089</td>\n",
              "      <td>-0.052322</td>\n",
              "      <td>-0.003767</td>\n",
              "      <td>0.021575</td>\n",
              "      <td>0.037693</td>\n",
              "      <td>-0.023680</td>\n",
              "      <td>0.020160</td>\n",
              "      <td>0.049407</td>\n",
              "      <td>-0.078540</td>\n",
              "      <td>-0.004850</td>\n",
              "      <td>-0.034643</td>\n",
              "      <td>0.027773</td>\n",
              "    </tr>\n",
              "    <tr>\n",
              "      <th>style_Platform</th>\n",
              "      <td>-0.016930</td>\n",
              "      <td>-0.041764</td>\n",
              "      <td>-0.077560</td>\n",
              "      <td>-0.006719</td>\n",
              "      <td>-0.061209</td>\n",
              "      <td>-0.010448</td>\n",
              "      <td>0.008184</td>\n",
              "      <td>0.056043</td>\n",
              "      <td>-0.021526</td>\n",
              "      <td>0.024945</td>\n",
              "      <td>-0.027679</td>\n",
              "      <td>-0.007207</td>\n",
              "      <td>-0.151503</td>\n",
              "      <td>-0.169627</td>\n",
              "      <td>1.000000</td>\n",
              "      <td>-0.402728</td>\n",
              "      <td>-0.139298</td>\n",
              "      <td>-0.112165</td>\n",
              "      <td>-0.007662</td>\n",
              "      <td>-0.061058</td>\n",
              "      <td>0.062920</td>\n",
              "      <td>0.040452</td>\n",
              "      <td>-0.007991</td>\n",
              "      <td>0.003649</td>\n",
              "      <td>0.056939</td>\n",
              "      <td>-0.058058</td>\n",
              "      <td>-0.067311</td>\n",
              "      <td>0.027155</td>\n",
              "      <td>0.018196</td>\n",
              "    </tr>\n",
              "    <tr>\n",
              "      <th>style_Pump</th>\n",
              "      <td>-0.028187</td>\n",
              "      <td>0.011914</td>\n",
              "      <td>0.143122</td>\n",
              "      <td>0.003601</td>\n",
              "      <td>0.108135</td>\n",
              "      <td>0.036007</td>\n",
              "      <td>-0.007123</td>\n",
              "      <td>-0.108015</td>\n",
              "      <td>-0.047498</td>\n",
              "      <td>0.032776</td>\n",
              "      <td>-0.016154</td>\n",
              "      <td>-0.012476</td>\n",
              "      <td>-0.311350</td>\n",
              "      <td>-0.348597</td>\n",
              "      <td>-0.402728</td>\n",
              "      <td>1.000000</td>\n",
              "      <td>-0.286267</td>\n",
              "      <td>-0.230508</td>\n",
              "      <td>0.081551</td>\n",
              "      <td>0.079554</td>\n",
              "      <td>-0.047562</td>\n",
              "      <td>-0.118054</td>\n",
              "      <td>0.024280</td>\n",
              "      <td>0.015113</td>\n",
              "      <td>-0.133728</td>\n",
              "      <td>0.146243</td>\n",
              "      <td>-0.006756</td>\n",
              "      <td>0.005694</td>\n",
              "      <td>-0.022561</td>\n",
              "    </tr>\n",
              "    <tr>\n",
              "      <th>style_Slingback</th>\n",
              "      <td>-0.005938</td>\n",
              "      <td>-0.042851</td>\n",
              "      <td>-0.068931</td>\n",
              "      <td>0.010401</td>\n",
              "      <td>-0.029235</td>\n",
              "      <td>-0.001330</td>\n",
              "      <td>-0.000565</td>\n",
              "      <td>0.028003</td>\n",
              "      <td>-0.027125</td>\n",
              "      <td>0.021110</td>\n",
              "      <td>0.002494</td>\n",
              "      <td>-0.015688</td>\n",
              "      <td>-0.107692</td>\n",
              "      <td>-0.120575</td>\n",
              "      <td>-0.139298</td>\n",
              "      <td>-0.286267</td>\n",
              "      <td>1.000000</td>\n",
              "      <td>-0.079729</td>\n",
              "      <td>-0.032658</td>\n",
              "      <td>-0.036307</td>\n",
              "      <td>0.014622</td>\n",
              "      <td>0.034862</td>\n",
              "      <td>0.032337</td>\n",
              "      <td>-0.003880</td>\n",
              "      <td>0.042638</td>\n",
              "      <td>-0.031274</td>\n",
              "      <td>0.086445</td>\n",
              "      <td>-0.028048</td>\n",
              "      <td>-0.052778</td>\n",
              "    </tr>\n",
              "    <tr>\n",
              "      <th>style_Stiletto</th>\n",
              "      <td>0.041922</td>\n",
              "      <td>0.040167</td>\n",
              "      <td>0.060456</td>\n",
              "      <td>0.002388</td>\n",
              "      <td>0.007634</td>\n",
              "      <td>-0.021770</td>\n",
              "      <td>-0.002219</td>\n",
              "      <td>0.000472</td>\n",
              "      <td>-0.021842</td>\n",
              "      <td>0.017249</td>\n",
              "      <td>-0.020342</td>\n",
              "      <td>-0.001851</td>\n",
              "      <td>-0.086715</td>\n",
              "      <td>-0.097089</td>\n",
              "      <td>-0.112165</td>\n",
              "      <td>-0.230508</td>\n",
              "      <td>-0.079729</td>\n",
              "      <td>1.000000</td>\n",
              "      <td>-0.045559</td>\n",
              "      <td>0.048159</td>\n",
              "      <td>-0.044954</td>\n",
              "      <td>0.013600</td>\n",
              "      <td>-0.028188</td>\n",
              "      <td>-0.022333</td>\n",
              "      <td>0.019872</td>\n",
              "      <td>-0.002531</td>\n",
              "      <td>-0.008485</td>\n",
              "      <td>-0.018340</td>\n",
              "      <td>0.020034</td>\n",
              "    </tr>\n",
              "    <tr>\n",
              "      <th>color_Beige</th>\n",
              "      <td>-0.027527</td>\n",
              "      <td>0.017659</td>\n",
              "      <td>0.026097</td>\n",
              "      <td>0.069548</td>\n",
              "      <td>-0.000436</td>\n",
              "      <td>0.019704</td>\n",
              "      <td>-0.002787</td>\n",
              "      <td>-0.003989</td>\n",
              "      <td>-0.020129</td>\n",
              "      <td>0.017852</td>\n",
              "      <td>-0.033771</td>\n",
              "      <td>0.003482</td>\n",
              "      <td>-0.000255</td>\n",
              "      <td>-0.052322</td>\n",
              "      <td>-0.007662</td>\n",
              "      <td>0.081551</td>\n",
              "      <td>-0.032658</td>\n",
              "      <td>-0.045559</td>\n",
              "      <td>1.000000</td>\n",
              "      <td>-0.255900</td>\n",
              "      <td>-0.076373</td>\n",
              "      <td>-0.311978</td>\n",
              "      <td>-0.080427</td>\n",
              "      <td>0.016368</td>\n",
              "      <td>-0.102577</td>\n",
              "      <td>0.147013</td>\n",
              "      <td>-0.038658</td>\n",
              "      <td>0.023772</td>\n",
              "      <td>-0.059595</td>\n",
              "    </tr>\n",
              "    <tr>\n",
              "      <th>color_Black</th>\n",
              "      <td>-0.032828</td>\n",
              "      <td>0.050192</td>\n",
              "      <td>0.023828</td>\n",
              "      <td>0.008556</td>\n",
              "      <td>-0.027571</td>\n",
              "      <td>-0.003958</td>\n",
              "      <td>-0.061638</td>\n",
              "      <td>0.058896</td>\n",
              "      <td>0.027036</td>\n",
              "      <td>-0.033033</td>\n",
              "      <td>0.036962</td>\n",
              "      <td>0.009926</td>\n",
              "      <td>-0.054877</td>\n",
              "      <td>-0.003767</td>\n",
              "      <td>-0.061058</td>\n",
              "      <td>0.079554</td>\n",
              "      <td>-0.036307</td>\n",
              "      <td>0.048159</td>\n",
              "      <td>-0.255900</td>\n",
              "      <td>1.000000</td>\n",
              "      <td>-0.160964</td>\n",
              "      <td>-0.657524</td>\n",
              "      <td>-0.169507</td>\n",
              "      <td>0.149629</td>\n",
              "      <td>-0.250563</td>\n",
              "      <td>0.107742</td>\n",
              "      <td>0.073656</td>\n",
              "      <td>-0.096146</td>\n",
              "      <td>0.017652</td>\n",
              "    </tr>\n",
              "    <tr>\n",
              "      <th>color_Brown</th>\n",
              "      <td>-0.012452</td>\n",
              "      <td>-0.023559</td>\n",
              "      <td>-0.074825</td>\n",
              "      <td>-0.024648</td>\n",
              "      <td>-0.022414</td>\n",
              "      <td>-0.014620</td>\n",
              "      <td>0.031185</td>\n",
              "      <td>0.009105</td>\n",
              "      <td>-0.004173</td>\n",
              "      <td>-0.028660</td>\n",
              "      <td>0.028354</td>\n",
              "      <td>0.020528</td>\n",
              "      <td>-0.001001</td>\n",
              "      <td>0.021575</td>\n",
              "      <td>0.062920</td>\n",
              "      <td>-0.047562</td>\n",
              "      <td>0.014622</td>\n",
              "      <td>-0.044954</td>\n",
              "      <td>-0.076373</td>\n",
              "      <td>-0.160964</td>\n",
              "      <td>1.000000</td>\n",
              "      <td>-0.196238</td>\n",
              "      <td>-0.050589</td>\n",
              "      <td>0.107567</td>\n",
              "      <td>-0.045595</td>\n",
              "      <td>-0.060195</td>\n",
              "      <td>-0.014142</td>\n",
              "      <td>-0.001332</td>\n",
              "      <td>0.009247</td>\n",
              "    </tr>\n",
              "    <tr>\n",
              "      <th>color_Other/Missing</th>\n",
              "      <td>0.052349</td>\n",
              "      <td>-0.051375</td>\n",
              "      <td>-0.006651</td>\n",
              "      <td>-0.040216</td>\n",
              "      <td>0.014197</td>\n",
              "      <td>-0.005888</td>\n",
              "      <td>0.049900</td>\n",
              "      <td>-0.037395</td>\n",
              "      <td>-0.015230</td>\n",
              "      <td>0.037949</td>\n",
              "      <td>-0.018867</td>\n",
              "      <td>-0.028864</td>\n",
              "      <td>0.058680</td>\n",
              "      <td>0.037693</td>\n",
              "      <td>0.040452</td>\n",
              "      <td>-0.118054</td>\n",
              "      <td>0.034862</td>\n",
              "      <td>0.013600</td>\n",
              "      <td>-0.311978</td>\n",
              "      <td>-0.657524</td>\n",
              "      <td>-0.196238</td>\n",
              "      <td>1.000000</td>\n",
              "      <td>-0.206653</td>\n",
              "      <td>-0.185418</td>\n",
              "      <td>0.343693</td>\n",
              "      <td>-0.197234</td>\n",
              "      <td>-0.029994</td>\n",
              "      <td>0.086468</td>\n",
              "      <td>-0.005287</td>\n",
              "    </tr>\n",
              "    <tr>\n",
              "      <th>color_Red</th>\n",
              "      <td>0.003667</td>\n",
              "      <td>0.004680</td>\n",
              "      <td>-0.002388</td>\n",
              "      <td>-0.002517</td>\n",
              "      <td>0.049839</td>\n",
              "      <td>0.007981</td>\n",
              "      <td>-0.004780</td>\n",
              "      <td>-0.046453</td>\n",
              "      <td>0.008201</td>\n",
              "      <td>-0.012105</td>\n",
              "      <td>-0.016859</td>\n",
              "      <td>0.019321</td>\n",
              "      <td>-0.012285</td>\n",
              "      <td>-0.023680</td>\n",
              "      <td>-0.007991</td>\n",
              "      <td>0.024280</td>\n",
              "      <td>0.032337</td>\n",
              "      <td>-0.028188</td>\n",
              "      <td>-0.080427</td>\n",
              "      <td>-0.169507</td>\n",
              "      <td>-0.050589</td>\n",
              "      <td>-0.206653</td>\n",
              "      <td>1.000000</td>\n",
              "      <td>-0.031134</td>\n",
              "      <td>-0.044964</td>\n",
              "      <td>0.061712</td>\n",
              "      <td>-0.024025</td>\n",
              "      <td>-0.019208</td>\n",
              "      <td>0.049235</td>\n",
              "    </tr>\n",
              "    <tr>\n",
              "      <th>material_Leather</th>\n",
              "      <td>-0.018851</td>\n",
              "      <td>0.014462</td>\n",
              "      <td>0.031002</td>\n",
              "      <td>0.003313</td>\n",
              "      <td>-0.003303</td>\n",
              "      <td>-0.002300</td>\n",
              "      <td>0.019176</td>\n",
              "      <td>-0.006176</td>\n",
              "      <td>-0.001351</td>\n",
              "      <td>-0.012103</td>\n",
              "      <td>0.024090</td>\n",
              "      <td>0.002517</td>\n",
              "      <td>-0.029968</td>\n",
              "      <td>0.020160</td>\n",
              "      <td>0.003649</td>\n",
              "      <td>0.015113</td>\n",
              "      <td>-0.003880</td>\n",
              "      <td>-0.022333</td>\n",
              "      <td>0.016368</td>\n",
              "      <td>0.149629</td>\n",
              "      <td>0.107567</td>\n",
              "      <td>-0.185418</td>\n",
              "      <td>-0.031134</td>\n",
              "      <td>1.000000</td>\n",
              "      <td>-0.392901</td>\n",
              "      <td>-0.334415</td>\n",
              "      <td>-0.122517</td>\n",
              "      <td>-0.102977</td>\n",
              "      <td>-0.215598</td>\n",
              "    </tr>\n",
              "    <tr>\n",
              "      <th>material_Other/Missing</th>\n",
              "      <td>0.065156</td>\n",
              "      <td>-0.013552</td>\n",
              "      <td>-0.039982</td>\n",
              "      <td>-0.049766</td>\n",
              "      <td>-0.029163</td>\n",
              "      <td>-0.022628</td>\n",
              "      <td>0.006020</td>\n",
              "      <td>0.030834</td>\n",
              "      <td>-0.010962</td>\n",
              "      <td>0.002616</td>\n",
              "      <td>-0.014986</td>\n",
              "      <td>0.008404</td>\n",
              "      <td>0.039310</td>\n",
              "      <td>0.049407</td>\n",
              "      <td>0.056939</td>\n",
              "      <td>-0.133728</td>\n",
              "      <td>0.042638</td>\n",
              "      <td>0.019872</td>\n",
              "      <td>-0.102577</td>\n",
              "      <td>-0.250563</td>\n",
              "      <td>-0.045595</td>\n",
              "      <td>0.343693</td>\n",
              "      <td>-0.044964</td>\n",
              "      <td>-0.392901</td>\n",
              "      <td>1.000000</td>\n",
              "      <td>-0.380160</td>\n",
              "      <td>-0.139277</td>\n",
              "      <td>-0.117063</td>\n",
              "      <td>-0.245090</td>\n",
              "    </tr>\n",
              "    <tr>\n",
              "      <th>material_Patent Leather</th>\n",
              "      <td>-0.034395</td>\n",
              "      <td>0.017548</td>\n",
              "      <td>0.030409</td>\n",
              "      <td>0.035166</td>\n",
              "      <td>0.043387</td>\n",
              "      <td>0.018959</td>\n",
              "      <td>-0.043497</td>\n",
              "      <td>-0.023602</td>\n",
              "      <td>0.001110</td>\n",
              "      <td>0.031325</td>\n",
              "      <td>-0.024850</td>\n",
              "      <td>-0.024220</td>\n",
              "      <td>-0.050617</td>\n",
              "      <td>-0.078540</td>\n",
              "      <td>-0.058058</td>\n",
              "      <td>0.146243</td>\n",
              "      <td>-0.031274</td>\n",
              "      <td>-0.002531</td>\n",
              "      <td>0.147013</td>\n",
              "      <td>0.107742</td>\n",
              "      <td>-0.060195</td>\n",
              "      <td>-0.197234</td>\n",
              "      <td>0.061712</td>\n",
              "      <td>-0.334415</td>\n",
              "      <td>-0.380160</td>\n",
              "      <td>1.000000</td>\n",
              "      <td>-0.118545</td>\n",
              "      <td>-0.099637</td>\n",
              "      <td>-0.208606</td>\n",
              "    </tr>\n",
              "    <tr>\n",
              "      <th>material_Satin</th>\n",
              "      <td>-0.001077</td>\n",
              "      <td>-0.029950</td>\n",
              "      <td>-0.067373</td>\n",
              "      <td>0.020731</td>\n",
              "      <td>-0.033368</td>\n",
              "      <td>0.015337</td>\n",
              "      <td>0.006840</td>\n",
              "      <td>0.023083</td>\n",
              "      <td>-0.017965</td>\n",
              "      <td>-0.021592</td>\n",
              "      <td>0.009482</td>\n",
              "      <td>0.026754</td>\n",
              "      <td>0.023396</td>\n",
              "      <td>-0.004850</td>\n",
              "      <td>-0.067311</td>\n",
              "      <td>-0.006756</td>\n",
              "      <td>0.086445</td>\n",
              "      <td>-0.008485</td>\n",
              "      <td>-0.038658</td>\n",
              "      <td>0.073656</td>\n",
              "      <td>-0.014142</td>\n",
              "      <td>-0.029994</td>\n",
              "      <td>-0.024025</td>\n",
              "      <td>-0.122517</td>\n",
              "      <td>-0.139277</td>\n",
              "      <td>-0.118545</td>\n",
              "      <td>1.000000</td>\n",
              "      <td>-0.036504</td>\n",
              "      <td>-0.076426</td>\n",
              "    </tr>\n",
              "    <tr>\n",
              "      <th>material_Snakeskin</th>\n",
              "      <td>-0.015134</td>\n",
              "      <td>-0.021997</td>\n",
              "      <td>0.076948</td>\n",
              "      <td>0.004078</td>\n",
              "      <td>0.008537</td>\n",
              "      <td>-0.025701</td>\n",
              "      <td>0.039176</td>\n",
              "      <td>-0.020672</td>\n",
              "      <td>0.021132</td>\n",
              "      <td>0.017127</td>\n",
              "      <td>-0.020643</td>\n",
              "      <td>-0.017232</td>\n",
              "      <td>0.036189</td>\n",
              "      <td>-0.034643</td>\n",
              "      <td>0.027155</td>\n",
              "      <td>0.005694</td>\n",
              "      <td>-0.028048</td>\n",
              "      <td>-0.018340</td>\n",
              "      <td>0.023772</td>\n",
              "      <td>-0.096146</td>\n",
              "      <td>-0.001332</td>\n",
              "      <td>0.086468</td>\n",
              "      <td>-0.019208</td>\n",
              "      <td>-0.102977</td>\n",
              "      <td>-0.117063</td>\n",
              "      <td>-0.099637</td>\n",
              "      <td>-0.036504</td>\n",
              "      <td>1.000000</td>\n",
              "      <td>-0.064236</td>\n",
              "    </tr>\n",
              "    <tr>\n",
              "      <th>material_Suede</th>\n",
              "      <td>-0.013289</td>\n",
              "      <td>0.006561</td>\n",
              "      <td>-0.024018</td>\n",
              "      <td>0.004938</td>\n",
              "      <td>0.004587</td>\n",
              "      <td>0.014277</td>\n",
              "      <td>-0.001513</td>\n",
              "      <td>-0.007734</td>\n",
              "      <td>0.016007</td>\n",
              "      <td>-0.024692</td>\n",
              "      <td>0.026892</td>\n",
              "      <td>0.009317</td>\n",
              "      <td>0.018139</td>\n",
              "      <td>0.027773</td>\n",
              "      <td>0.018196</td>\n",
              "      <td>-0.022561</td>\n",
              "      <td>-0.052778</td>\n",
              "      <td>0.020034</td>\n",
              "      <td>-0.059595</td>\n",
              "      <td>0.017652</td>\n",
              "      <td>0.009247</td>\n",
              "      <td>-0.005287</td>\n",
              "      <td>0.049235</td>\n",
              "      <td>-0.215598</td>\n",
              "      <td>-0.245090</td>\n",
              "      <td>-0.208606</td>\n",
              "      <td>-0.076426</td>\n",
              "      <td>-0.064236</td>\n",
              "      <td>1.000000</td>\n",
              "    </tr>\n",
              "  </tbody>\n",
              "</table>\n",
              "</div>"
            ],
            "text/plain": [
              "                            biddable  ...  material_Suede\n",
              "biddable                    1.000000  ...       -0.013289\n",
              "sold                        0.099469  ...        0.006561\n",
              "startprice                 -0.191328  ...       -0.024018\n",
              "size                        0.001031  ...        0.004938\n",
              "condition_New with box     -0.114271  ...        0.004587\n",
              "condition_New with defects -0.001089  ...        0.014277\n",
              "condition_New without box  -0.046763  ...       -0.001513\n",
              "condition_Pre-owned         0.131339  ...       -0.007734\n",
              "heel_Flat                  -0.003458  ...        0.016007\n",
              "heel_High                  -0.020739  ...       -0.024692\n",
              "heel_Low                    0.005810  ...        0.026892\n",
              "heel_Medium                 0.022299  ...        0.009317\n",
              "style_Open Toe              0.030999  ...        0.018139\n",
              "style_Other/Missing         0.007540  ...        0.027773\n",
              "style_Platform             -0.016930  ...        0.018196\n",
              "style_Pump                 -0.028187  ...       -0.022561\n",
              "style_Slingback            -0.005938  ...       -0.052778\n",
              "style_Stiletto              0.041922  ...        0.020034\n",
              "color_Beige                -0.027527  ...       -0.059595\n",
              "color_Black                -0.032828  ...        0.017652\n",
              "color_Brown                -0.012452  ...        0.009247\n",
              "color_Other/Missing         0.052349  ...       -0.005287\n",
              "color_Red                   0.003667  ...        0.049235\n",
              "material_Leather           -0.018851  ...       -0.215598\n",
              "material_Other/Missing      0.065156  ...       -0.245090\n",
              "material_Patent Leather    -0.034395  ...       -0.208606\n",
              "material_Satin             -0.001077  ...       -0.076426\n",
              "material_Snakeskin         -0.015134  ...       -0.064236\n",
              "material_Suede             -0.013289  ...        1.000000\n",
              "\n",
              "[29 rows x 29 columns]"
            ]
          },
          "metadata": {
            "tags": []
          },
          "execution_count": 60
        }
      ]
    },
    {
      "cell_type": "code",
      "metadata": {
        "id": "QHqEQcVb2xFQ"
      },
      "source": [
        ""
      ],
      "execution_count": null,
      "outputs": []
    },
    {
      "cell_type": "code",
      "metadata": {
        "colab": {
          "base_uri": "https://localhost:8080/",
          "height": 203
        },
        "id": "zSmOvkR_EV1y",
        "outputId": "4e474a4d-d615-4d83-ce90-ebbfd1239650"
      },
      "source": [
        "X = df.drop('sold',1)\n",
        "X.head()"
      ],
      "execution_count": null,
      "outputs": [
        {
          "output_type": "execute_result",
          "data": {
            "text/html": [
              "<div>\n",
              "<style scoped>\n",
              "    .dataframe tbody tr th:only-of-type {\n",
              "        vertical-align: middle;\n",
              "    }\n",
              "\n",
              "    .dataframe tbody tr th {\n",
              "        vertical-align: top;\n",
              "    }\n",
              "\n",
              "    .dataframe thead th {\n",
              "        text-align: right;\n",
              "    }\n",
              "</style>\n",
              "<table border=\"1\" class=\"dataframe\">\n",
              "  <thead>\n",
              "    <tr style=\"text-align: right;\">\n",
              "      <th></th>\n",
              "      <th>biddable</th>\n",
              "      <th>startprice</th>\n",
              "      <th>condition</th>\n",
              "      <th>size</th>\n",
              "      <th>heel</th>\n",
              "      <th>style</th>\n",
              "      <th>color</th>\n",
              "      <th>material</th>\n",
              "    </tr>\n",
              "  </thead>\n",
              "  <tbody>\n",
              "    <tr>\n",
              "      <th>0</th>\n",
              "      <td>1</td>\n",
              "      <td>199.00</td>\n",
              "      <td>Pre-owned</td>\n",
              "      <td>9.5</td>\n",
              "      <td>Low</td>\n",
              "      <td>Open Toe</td>\n",
              "      <td>Black</td>\n",
              "      <td>Suede</td>\n",
              "    </tr>\n",
              "    <tr>\n",
              "      <th>1</th>\n",
              "      <td>0</td>\n",
              "      <td>375.00</td>\n",
              "      <td>New with box</td>\n",
              "      <td>7.5</td>\n",
              "      <td>High</td>\n",
              "      <td>Slingback</td>\n",
              "      <td>Other/Missing</td>\n",
              "      <td>Satin</td>\n",
              "    </tr>\n",
              "    <tr>\n",
              "      <th>2</th>\n",
              "      <td>1</td>\n",
              "      <td>299.99</td>\n",
              "      <td>Pre-owned</td>\n",
              "      <td>8.5</td>\n",
              "      <td>High</td>\n",
              "      <td>Pump</td>\n",
              "      <td>Black</td>\n",
              "      <td>Other/Missing</td>\n",
              "    </tr>\n",
              "    <tr>\n",
              "      <th>3</th>\n",
              "      <td>1</td>\n",
              "      <td>49.99</td>\n",
              "      <td>Pre-owned</td>\n",
              "      <td>8.5</td>\n",
              "      <td>High</td>\n",
              "      <td>Pump</td>\n",
              "      <td>Black</td>\n",
              "      <td>Snakeskin</td>\n",
              "    </tr>\n",
              "    <tr>\n",
              "      <th>4</th>\n",
              "      <td>0</td>\n",
              "      <td>89.00</td>\n",
              "      <td>Pre-owned</td>\n",
              "      <td>5.5</td>\n",
              "      <td>Flat</td>\n",
              "      <td>Other/Missing</td>\n",
              "      <td>Other/Missing</td>\n",
              "      <td>Leather</td>\n",
              "    </tr>\n",
              "  </tbody>\n",
              "</table>\n",
              "</div>"
            ],
            "text/plain": [
              "   biddable  startprice  ...          color       material\n",
              "0         1      199.00  ...          Black          Suede\n",
              "1         0      375.00  ...  Other/Missing          Satin\n",
              "2         1      299.99  ...          Black  Other/Missing\n",
              "3         1       49.99  ...          Black      Snakeskin\n",
              "4         0       89.00  ...  Other/Missing        Leather\n",
              "\n",
              "[5 rows x 8 columns]"
            ]
          },
          "metadata": {
            "tags": []
          },
          "execution_count": 53
        }
      ]
    },
    {
      "cell_type": "code",
      "metadata": {
        "colab": {
          "base_uri": "https://localhost:8080/",
          "height": 203
        },
        "id": "WiHveghXEV3x",
        "outputId": "0a35f9b8-1e6b-4513-ac22-34931cbf08ec"
      },
      "source": [
        "y = df[['sold']]\n",
        "y.head()"
      ],
      "execution_count": null,
      "outputs": [
        {
          "output_type": "execute_result",
          "data": {
            "text/html": [
              "<div>\n",
              "<style scoped>\n",
              "    .dataframe tbody tr th:only-of-type {\n",
              "        vertical-align: middle;\n",
              "    }\n",
              "\n",
              "    .dataframe tbody tr th {\n",
              "        vertical-align: top;\n",
              "    }\n",
              "\n",
              "    .dataframe thead th {\n",
              "        text-align: right;\n",
              "    }\n",
              "</style>\n",
              "<table border=\"1\" class=\"dataframe\">\n",
              "  <thead>\n",
              "    <tr style=\"text-align: right;\">\n",
              "      <th></th>\n",
              "      <th>sold</th>\n",
              "    </tr>\n",
              "  </thead>\n",
              "  <tbody>\n",
              "    <tr>\n",
              "      <th>0</th>\n",
              "      <td>0</td>\n",
              "    </tr>\n",
              "    <tr>\n",
              "      <th>1</th>\n",
              "      <td>0</td>\n",
              "    </tr>\n",
              "    <tr>\n",
              "      <th>2</th>\n",
              "      <td>1</td>\n",
              "    </tr>\n",
              "    <tr>\n",
              "      <th>3</th>\n",
              "      <td>1</td>\n",
              "    </tr>\n",
              "    <tr>\n",
              "      <th>4</th>\n",
              "      <td>0</td>\n",
              "    </tr>\n",
              "  </tbody>\n",
              "</table>\n",
              "</div>"
            ],
            "text/plain": [
              "   sold\n",
              "0     0\n",
              "1     0\n",
              "2     1\n",
              "3     1\n",
              "4     0"
            ]
          },
          "metadata": {
            "tags": []
          },
          "execution_count": 57
        }
      ]
    },
    {
      "cell_type": "code",
      "metadata": {
        "id": "ACt-X5EF2TSE"
      },
      "source": [
        ""
      ],
      "execution_count": null,
      "outputs": []
    },
    {
      "cell_type": "code",
      "metadata": {
        "id": "FyrWPwkN2TU2"
      },
      "source": [
        ""
      ],
      "execution_count": null,
      "outputs": []
    },
    {
      "cell_type": "code",
      "metadata": {
        "id": "7TJVlbNe2TXu"
      },
      "source": [
        ""
      ],
      "execution_count": null,
      "outputs": []
    },
    {
      "cell_type": "code",
      "metadata": {
        "id": "Utef6Dxo2Ta_"
      },
      "source": [
        ""
      ],
      "execution_count": null,
      "outputs": []
    },
    {
      "cell_type": "code",
      "metadata": {
        "id": "cw7y0qwA2Tdn"
      },
      "source": [
        ""
      ],
      "execution_count": null,
      "outputs": []
    },
    {
      "cell_type": "code",
      "metadata": {
        "id": "_YBBZX0T2ThD"
      },
      "source": [
        ""
      ],
      "execution_count": null,
      "outputs": []
    },
    {
      "cell_type": "code",
      "metadata": {
        "id": "Aay_R36h2TqC"
      },
      "source": [
        ""
      ],
      "execution_count": null,
      "outputs": []
    },
    {
      "cell_type": "code",
      "metadata": {
        "id": "Th1ZDN2SEV7V"
      },
      "source": [
        ""
      ],
      "execution_count": null,
      "outputs": []
    },
    {
      "cell_type": "code",
      "metadata": {
        "id": "DSxqH0qFEV-O"
      },
      "source": [
        ""
      ],
      "execution_count": null,
      "outputs": []
    }
  ]
}